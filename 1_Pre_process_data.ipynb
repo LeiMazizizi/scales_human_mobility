{
 "cells": [
  {
   "cell_type": "code",
   "execution_count": null,
   "metadata": {},
   "outputs": [],
   "source": [
    "import infostop\n",
    "import pandas as pd"
   ]
  },
  {
   "cell_type": "code",
   "execution_count": null,
   "metadata": {},
   "outputs": [],
   "source": [
    "MY_PATH_TO_INPUT_DATA = '....'\n",
    "MY_PATH_TO_OUPUT_DATA = '....'"
   ]
  },
  {
   "cell_type": "code",
   "execution_count": null,
   "metadata": {},
   "outputs": [],
   "source": [
    "#Read data (a dataframe containing latitude, longitude and timestamp records)\n",
    "df = pd.read_csv(MY_PATH_TO_INPUT_DATA)\n",
    "df = df[['latitude','longitude','time']]\n",
    "\n",
    "#Sort by time\n",
    "df = df.sort_values(by = 'time').reset_index(drop = True)\n",
    "\n",
    "\n",
    "#Find stop locations\n",
    "model_infostop = infostop.Infostop(r1 = 30, \n",
    "                        r2 = 30, \n",
    "                        label_singleton=False, \n",
    "                        min_staying_time = 600,\n",
    "                        max_time_between = 86400,\n",
    "                        min_size = 2)\n",
    "labels = model_infostop.fit_predict(df[['latitude','longitude','time']].values)\n",
    "trajectory = infostop.postprocess.compute_intervals(df[['latitude','longitude','time']].values,\n",
    "                                                     labels)\n",
    "#Write to file\n",
    "pd.DataFrame(trajectory, columns = ['label','start','end','latitude','longitude']).to_csv(MY_PATH_TO_OUPUT_DATA, index = False)"
   ]
  }
 ],
 "metadata": {
  "kernelspec": {
   "display_name": "Python 3",
   "language": "python",
   "name": "python3"
  },
  "language_info": {
   "codemirror_mode": {
    "name": "ipython",
    "version": 3
   },
   "file_extension": ".py",
   "mimetype": "text/x-python",
   "name": "python",
   "nbconvert_exporter": "python",
   "pygments_lexer": "ipython3",
   "version": "3.7.4"
  }
 },
 "nbformat": 4,
 "nbformat_minor": 2
}
