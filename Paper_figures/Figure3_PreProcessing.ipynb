{
 "cells": [
  {
   "cell_type": "code",
   "execution_count": 1,
   "metadata": {},
   "outputs": [],
   "source": [
    "import rasterio\n",
    "from shapely.geometry import Point\n",
    "from rasterio.warp import calculate_default_transform, reproject, Resampling\n",
    "import pandas as pd\n",
    "import geopandas as gpd\n",
    "from walkscore.api import WalkScoreAPI\n",
    "import numpy as np"
   ]
  },
  {
   "cell_type": "code",
   "execution_count": 2,
   "metadata": {},
   "outputs": [],
   "source": [
    "DATA_FOLDER = \"../demographics_data/\" #where is the data \n",
    "apikey = \"mykey\" ##key for walkscore-api"
   ]
  },
  {
   "cell_type": "code",
   "execution_count": 3,
   "metadata": {},
   "outputs": [],
   "source": [
    "N = 1000 ##MINIMUM NUMBER OF USERS PER COUNTRY\n",
    "MIN_TIME_COVERAGE = 0.7 ##MINIMUM TIME COVERAGE\n",
    "DEMOGRAPHICS_FOLDER = '/data/work/user/laura_data/users_scales_urbanization/'\n",
    "SCALES_FOLDER = '/data/work/user/laura_data/scales_by_user_0.5/'\n"
   ]
  },
  {
   "cell_type": "markdown",
   "metadata": {},
   "source": [
    "# 1) process urbanization data"
   ]
  },
  {
   "cell_type": "code",
   "execution_count": 4,
   "metadata": {},
   "outputs": [],
   "source": [
    "\n",
    "filename = DATA_FOLDER+'GHS_SMOD_POP2015_GLOBE_R2016A_54009_1k_v1_0/GHS_SMOD_POP2015_GLOBE_R2016A_54009_1k_v1_0.tif'\n",
    "new_filename =  DATA_FOLDER+'wgs_urb.tif'\n",
    "\n",
    "proj = \"EPSG:54009\"\n",
    "dst_crs = 'EPSG:4326'\n",
    "\n",
    "with rasterio.open(filename) as src:\n",
    "    transform, width, height = calculate_default_transform(\n",
    "        src.crs, dst_crs, src.width, src.height, *src.bounds)\n",
    "    kwargs = src.meta.copy()\n",
    "    kwargs.update({\n",
    "        'crs': dst_crs,\n",
    "        'transform': transform,\n",
    "        'width': width,\n",
    "        'height': height\n",
    "    })\n",
    "\n",
    "    with rasterio.open(new_filename, 'w', **kwargs) as dst:\n",
    "        for i in range(1, src.count + 1):\n",
    "            reproject(\n",
    "                source=rasterio.band(src, i),\n",
    "                destination=rasterio.band(dst, i),\n",
    "                src_transform=src.transform,\n",
    "                src_crs=src.crs,\n",
    "                dst_transform=transform,\n",
    "                dst_crs=dst_crs,\n",
    "                resampling=Resampling.nearest)\n",
    "            \n",
    "\n",
    "            \n"
   ]
  },
  {
   "cell_type": "markdown",
   "metadata": {},
   "source": [
    "# 2) Merge scales and demographics data"
   ]
  },
  {
   "cell_type": "code",
   "execution_count": 5,
   "metadata": {},
   "outputs": [],
   "source": [
    "\n",
    "df_demographics = pd.read_parquet(DEMOGRAPHICS_FOLDER)\n",
    "df_scales = pd.read_parquet(SCALES_FOLDER)\n"
   ]
  },
  {
   "cell_type": "code",
   "execution_count": 6,
   "metadata": {},
   "outputs": [],
   "source": [
    "#merge scales and demographics\n",
    "df_merged = df_scales.merge(df_demographics,on = \"useruuid\", how = 'left')\n",
    "df_merged['sizes'] = df_merged['sizes'].apply(lambda x:sorted(x))\n",
    "df_merged['n_scales'] = df_merged['scales'].apply(lambda x:len(x)+1)"
   ]
  },
  {
   "cell_type": "markdown",
   "metadata": {},
   "source": [
    "# 3) Add urbanization"
   ]
  },
  {
   "cell_type": "code",
   "execution_count": 7,
   "metadata": {},
   "outputs": [],
   "source": [
    "#This may take some time (adding the urbanization near the home location)\n",
    "lon_lat = [[i[1], i[0]] for i in df_merged[\"home\"].values]\n",
    "with rasterio.open(new_filename) as lidar_dem:\n",
    "    urbanizations = [i[0] for i in list(lidar_dem.sample(lon_lat))]\n"
   ]
  },
  {
   "cell_type": "code",
   "execution_count": 8,
   "metadata": {},
   "outputs": [],
   "source": [
    "df_merged['urbanization'] = urbanizations"
   ]
  },
  {
   "cell_type": "markdown",
   "metadata": {},
   "source": [
    "# 4) Add walkability for selected countries"
   ]
  },
  {
   "cell_type": "code",
   "execution_count": 9,
   "metadata": {},
   "outputs": [],
   "source": [
    "walkscore_api = WalkScoreAPI(api_key = apikey)"
   ]
  },
  {
   "cell_type": "code",
   "execution_count": null,
   "metadata": {},
   "outputs": [
    {
     "name": "stdout",
     "output_type": "stream",
     "text": [
      "United States\n",
      "Reading shapefile\n",
      "Selecting scales data\n",
      "Merging geometries\n"
     ]
    }
   ],
   "source": [
    "\n",
    "# merge with walkability data\n",
    "\n",
    "countries = ['United States','Australia','Canada','New Zealand']\n",
    "\n",
    "shapefile_names = [DATA_FOLDER+'/walkability/us_shapefile.shp',\n",
    "                   DATA_FOLDER+'/walkability/australia_blocks.shp',\n",
    "                   DATA_FOLDER+'/walkability/ldb_000a16a_e.shp',\n",
    "                   DATA_FOLDER+'/walkability/meshblock-2018-generalised.shp']\n",
    "\n",
    "ids_blocks = ['GEOID','MB_16PID','DBUID','MB2018_V1_']\n",
    "crs = [None, None, {'init':'epsg:3347'}, None]\n",
    "\n",
    "data_countries = []\n",
    "for country, filename, block_id, initial_crs in zip(countries, \n",
    "                                                                shapefile_names, \n",
    "                                                                ids_blocks, \n",
    "                                                                crs):\n",
    "    print(country)\n",
    "    #Rrad blocks files\n",
    "    print('Reading shapefile')\n",
    "    gdf = gpd.read_file(filename)\n",
    "    blocks = gdf[[block_id,'geometry']].dropna()\n",
    "    blocks.crs = initial_crs\n",
    "    blocks['centroid'] = blocks['geometry'].centroid\n",
    "\n",
    "    #scales data\n",
    "    print('Selecting scales data')\n",
    "    data_country = df_merged[df_merged.NAME_0==country][['home','useruuid']]\n",
    "    data_country['geometry'] = data_country['home'].apply(lambda x:Point(tuple((x[1],x[0]))))\n",
    "    data_country = gpd.GeoDataFrame(data_country, geometry = 'geometry')\n",
    "\n",
    "    #Merge the two\n",
    "    print('Merging geometries')\n",
    "    data_country = gpd.sjoin(data_country, blocks, op = 'within', how = 'left')\n",
    "\n",
    "\n",
    "    #Find walkability \n",
    "    unique_id = data_country[[block_id,'centroid']].drop_duplicates(subset = [block_id])\n",
    "    N = len(unique_id)\n",
    "    n = 0 \n",
    "    scores = []\n",
    "    for point in unique_id['centroid'].values[n:]:\n",
    "        try:\n",
    "            lat,lon  = point.x, point.y\n",
    "            result = walkscore_api.get_score(lon, lat)\n",
    "            scores.append(result.walk_score)\n",
    "        except:\n",
    "            scores.append(np.nan)\n",
    "            \n",
    "    unique_id['score'] = scores\n",
    "    data_country['score'] = data_country[block_id].map(dict(zip(unique_id[block_id], unique_id.score)))\n",
    "    data_countries.append(data_country)\n",
    "walkability_scores = pd.concat([i[['useruuid','score']] for i in data_countries])"
   ]
  },
  {
   "cell_type": "code",
   "execution_count": null,
   "metadata": {},
   "outputs": [],
   "source": [
    "#Merge walkability and previous data\n",
    "df_merged = pd.merge(walkability_scores, df_merged,on = ['useruuid'],how = 'outer')"
   ]
  },
  {
   "cell_type": "markdown",
   "metadata": {},
   "source": [
    "# 5) write to file"
   ]
  },
  {
   "cell_type": "code",
   "execution_count": null,
   "metadata": {},
   "outputs": [],
   "source": [
    "#First compute how many users per country and filter those with more than N individuals\n",
    "countries_size = df_merged.groupby(['NAME_0','gender']).size().sort_values(ascending = False).reset_index().pivot_table(values = 0, index = ['NAME_0'], columns = ['gender'])\n",
    "countries = countries_size[(countries_size.FEMALE+countries_size.MALE)>N].index.values"
   ]
  },
  {
   "cell_type": "code",
   "execution_count": null,
   "metadata": {},
   "outputs": [],
   "source": [
    "#Then FILTER RELEVANT COUNTRIES AND USERS\n",
    "df_merged_filtered = df_merged[(df_merged['time_coverage']>MIN_TIME_COVERAGE) & (df_merged.NAME_0.isin(countries))].copy()\n",
    "df_merged_filtered['urban_rural'] = df_merged_filtered['urbanization'].apply(lambda x: 'urban' if x==3 else('rural' if x<2 else np.nan))\n",
    "df_merged_filtered[['NAME_0','gender','urban_rural','n_scales','sizes',\"score\"]].to_pickle(\"../outputs/Figure2/data.pkl\")"
   ]
  },
  {
   "cell_type": "code",
   "execution_count": null,
   "metadata": {},
   "outputs": [],
   "source": [
    "####REMOVE GROUPS WITH <5 INDIVIDUALS (for sharing data purposes)\n",
    "size_by_group = df_merged_filtered.groupby(['NAME_0','gender','urban_rural']).size()\n",
    "df_merged_filtered_shareable = df_merged_filtered.merge(size_by_group[size_by_group>5].reset_index(),on = ['NAME_0','gender',\"urban_rural\"],how = 'inner')[['NAME_0','gender','urban_rural','n_scales','sizes']].copy()\n",
    "df_merged_filtered_shareable.to_pickle(\"../outputs/Figure2/data_safe.pkl\")"
   ]
  },
  {
   "cell_type": "code",
   "execution_count": null,
   "metadata": {},
   "outputs": [],
   "source": [
    "df_merged_filtered_shareable.to_csv(\"../outputs/Figure2/data_safe.csv\",index=False)"
   ]
  }
 ],
 "metadata": {
  "kernelspec": {
   "display_name": "Python 3",
   "language": "python",
   "name": "python3"
  },
  "language_info": {
   "codemirror_mode": {
    "name": "ipython",
    "version": 3
   },
   "file_extension": ".py",
   "mimetype": "text/x-python",
   "name": "python",
   "nbconvert_exporter": "python",
   "pygments_lexer": "ipython3",
   "version": "3.8.5"
  }
 },
 "nbformat": 4,
 "nbformat_minor": 2
}
